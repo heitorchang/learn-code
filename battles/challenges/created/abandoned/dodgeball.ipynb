{
 "cells": [
  {
   "cell_type": "code",
   "execution_count": 1,
   "metadata": {},
   "outputs": [],
   "source": [
    "# idea: you have the ball in your hands, output the number of opponents you can hit with 100% certainty\n",
    "# a target may jump out of the way once the ball has been thrown. The farther away they are, the farther they can\n",
    "# move out of the way\n",
    "\n",
    "# each target has an \"agility\" rating that tells how far away they can\n",
    "# dodge. A slow student behind a quick student can get hit\n",
    "\n",
    "# the 'strategy' of every opponent is to move out of the way"
   ]
  },
  {
   "cell_type": "code",
   "execution_count": 85,
   "metadata": {},
   "outputs": [],
   "source": [
    "import matplotlib.pyplot as plt\n",
    "from matplotlib.patches import Circle\n",
    "import math\n",
    "\n",
    "import numpy as np\n",
    "\n",
    "ballr = 0.2\n",
    "\n",
    "def ball(x, y):\n",
    "    fig, ax = plt.subplots(1)\n",
    "    ax.set_xlim([-5, 5])\n",
    "    ax.set_ylim([0, 10])\n",
    "    ax.set_aspect('equal')\n",
    "    \n",
    "    ax.add_patch(Circle((x, y), ballr, color=\"r\", fill=False))\n"
   ]
  },
  {
   "cell_type": "code",
   "execution_count": 86,
   "metadata": {},
   "outputs": [],
   "source": [
    "def path(tgtx, tgty):\n",
    "    \"\"\"ball path from (0,0) to the target\"\"\"\n",
    "    \n",
    "    fig, ax = plt.subplots()\n",
    "    ax.set_xlim([-5, 5])\n",
    "    ax.set_ylim([0, 10])\n",
    "    ax.set_aspect('equal')\n",
    "        "
   ]
  },
  {
   "cell_type": "code",
   "execution_count": 87,
   "metadata": {},
   "outputs": [
    {
     "data": {
      "image/png": "[encoded data removed]",
      "text/plain": [
       "<Figure size 432x288 with 1 Axes>"
      ]
     },
     "metadata": {},
     "output_type": "display_data"
    }
   ],
   "source": [
    "ball(3,4)"
   ]
  },
  {
   "cell_type": "code",
   "execution_count": 88,
   "metadata": {},
   "outputs": [],
   "source": [
    "def court():\n",
    "    fig, ax = plt.subplots(1)\n",
    "    ax.set_xlim([-5, 5])\n",
    "    ax.set_ylim([0, 10])\n",
    "    ax.set_aspect('equal')\n",
    "    return ax"
   ]
  },
  {
   "cell_type": "code",
   "execution_count": 89,
   "metadata": {},
   "outputs": [],
   "source": [
    "def ball(x, y):\n",
    "    return Circle((x, y), ballr, color=\"r\", fill=False)"
   ]
  },
  {
   "cell_type": "code",
   "execution_count": 90,
   "metadata": {},
   "outputs": [],
   "source": [
    "def throw(tx, ty):  # target x, y\n",
    "    ax = court()\n",
    "    \n",
    "    ts = np.linspace(0, 1, math.ceil(ty))\n",
    "    \n",
    "    # ax.add_patch(ball(tx, ty))\n",
    "    \n",
    "    # target's head\n",
    "    \n",
    "    for t in ts:\n",
    "        ax.add_patch(Circle((t * tx, t * ty), ballr, color=\"r\", fill=False))"
   ]
  },
  {
   "cell_type": "code",
   "execution_count": 91,
   "metadata": {},
   "outputs": [
    {
     "data": {
      "image/png": "[encoded data removed]",
      "text/plain": [
       "<Figure size 432x288 with 1 Axes>"
      ]
     },
     "metadata": {},
     "output_type": "display_data"
    }
   ],
   "source": [
    "throw(3, 4)"
   ]
  },
  {
   "cell_type": "code",
   "execution_count": 92,
   "metadata": {},
   "outputs": [
    {
     "data": {
      "image/png": "[encoded data removed]",
      "text/plain": [
       "<Figure size 432x288 with 1 Axes>"
      ]
     },
     "metadata": {},
     "output_type": "display_data"
    }
   ],
   "source": [
    "throw(-4, 6.6)\n"
   ]
  },
  {
   "cell_type": "code",
   "execution_count": null,
   "metadata": {},
   "outputs": [],
   "source": []
  }
 ],
 "metadata": {
  "kernelspec": {
   "display_name": "Python 3",
   "language": "python",
   "name": "python3"
  },
  "language_info": {
   "codemirror_mode": {
    "name": "ipython",
    "version": 3
   },
   "file_extension": ".py",
   "mimetype": "text/x-python",
   "name": "python",
   "nbconvert_exporter": "python",
   "pygments_lexer": "ipython3",
   "version": "3.6.5"
  }
 },
 "nbformat": 4,
 "nbformat_minor": 2
}
